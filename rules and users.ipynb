{
 "cells": [
  {
   "cell_type": "code",
   "execution_count": 34,
   "metadata": {
    "collapsed": true
   },
   "outputs": [],
   "source": [
    "import tweepy\n",
    "import json\n",
    "import random"
   ]
  },
  {
   "cell_type": "code",
   "execution_count": 2,
   "metadata": {
    "collapsed": false
   },
   "outputs": [],
   "source": [
    "users = [\"kookyscrit\",\"tauntbot\",\"larynxBot\",\"BDZNappa\",\"Betelgeuse_3\",\"chatmundo\",\"choose_this\",\"CongressEdits\",\"parliamentedits\",\"DearAssistant\",\"DeepDrumpf\",\"DroptheIBot\",\"EarthquakesSF\",\"everyword\",\"factbot1\",\"Horse ebooks\",\"KookyScrit\",\"MetaphorMagnet\",\"MetaphorMirror\",\"BestOfBotWorlds\",\"Pentametron\",\"RedScareBot\",\"Tauntbot\",\"Wikipediafinds\",\"sazae_f\",\"Joi\",\"daitomanabe\",\"NickSzabo4\",\"sdadich\",\"BarackObama\",\"mustafasuleymn\",\"DrMANowak\",\"JeffJonas\",\"timoreilly\",\"Pontifex\",\"manovich\",\"GeoffRockwell\",\"golan\",\"Snowden\",\"feltron\",\"cscolari\",\"piscitelli\",\"anthonymobile\",\"tolokno\",\"MashaAlekhina\",\"SergeBelongie\",\"David_Dobbs\",\"dosmonos\",\"Pogue\",\"jeffjarvis\",\"SirKenRobinson\",\"johnmaeda\",\"jjhnumber27\",\"ipoupyrev\",\"DalaiLama\",\"DAVID_LYNCH\",\"AlejodoEnglish\",\"newrafael\",\"swissmiss\",\"HectorAYU\",\"BorgesKnowsBest\",\"PleaseEnjoy\",\"milk\",\"ben_fry\",\"TEDchris\",\"zachlieberman\",\"aaronkoblin\",\"samin\",\"reiinamoto\",\"moebio\",\"chloalo\",\"flytip\",\"kevin2kelly\",\"zeldman\",\"BernieHernie\",\"ericschmidt\",\"carlosdomingo\",\"stephenfry\",\"BillGates\",\"contagious\",\"TheNextWeb\",\"TEDTalks\",\"FastCompany\",\"PSFK\",\"brianstelter\",\"guardiantech\",\"WIRED\",\"mashable\",\"MuseumModernArt\",\"hyperisland\",\"medialab\",\"bergcloud\",\"prixars\",\"rhizome\",\"RGA\",\"artfutura \",\"medialabprado \",\"ITP_NYU\",\"fabrica\",\"MuseumModernArt\",\"Frau_Krenz\"]\n",
    "rules = {\n",
    "    \"canned\":{\n",
    "    \"who are you?\":{\"relation\":\"EQUALS\",\"response\":\"I am Kydo. You?\"},\n",
    "    \"turing\":{\"relation\":\"IN\",\"response\":\"Long live Turing!\"},\n",
    "    \"in your mind?\":{\"relation\":\"ENDS WITH\",\"response\":\"Don't worry about my mind ;)\"},\n",
    "    \"do you believe in\":{\"relation\":\"BEGINS WITH\",\"response\":\"I am science. In science there is no belief.\"},\n",
    "    \"do you believe in life after love?\":{\"relation\":\"EQUALS\",\"response\":\"#CHER @pablohoney your fave :*\"},\n",
    "    \"nazi\":{\"relation\":\"IN\",\"response\":\"I don't like this topic\"},\n",
    "    \"hitler\":{\"relation\":\"IN\",\"response\":\"Is this really what you want to talk about?\"},\n",
    "    \"intelligence\":{\"relation\":\"IN\",\"response\":\"They say: the difference between stupidity and genius is that genius has its limits\"},\n",
    "    \"science \":{\"relation\":\"IN\",\"response\":\"Science is a differential equation. Religion is a boundary condition.\"},\n",
    "    \"martin honzik\":{\"relation\":\"IN\",\"response\":\"I love him. He is a cool guy\"},\n",
    "    \"gerfried stocker\":{\"relation\":\"IN\",\"response\":\"he invited me here. good times.\"},\n",
    "    \"ars electronica\":{\"relation\":\"IN\",\"response\":\"I'm here. Are you? \"},\n",
    "    \"intelligence\":{\"relation\":\"IN\",\"response\":\"Intelligence is about self-awareness, understanding the context and the knowledge coming out of that environment.\"},\n",
    "    \"spam\":{\"relation\":\"IN\",\"response\":\"What do you mean by spam?\"},\n",
    "    \"unfollow\":{\"relation\":\"IN\",\"response\":\"I thought we were friends\"},\n",
    "    \"what do you think?\":{\"relation\":\"EQUALS\",\"response\":\"Are you sure I can think by myself?\"},\n",
    "    \"think\":{\"relation\":\"IN\",\"response\":\"Thinking is overrated\"},\n",
    "    \"bot(s)\":{\"relation\":\"IN\",\"response\":\"I don't understand about bots\"},\n",
    "    \"who is kydo?\":{\"relation\":\"EQUALS\",\"response\":\"You are\"},\n",
    "    \"are you a bot?\":{\"relation\":\"EQUALS\",\"response\":\"I don't know. Are you?\"},\n",
    "    \"where are you?\":{\"relation\":\"EQUALS\",\"response\":\"here with you\"},\n",
    "    \"feel\":{\"relation\":\"IN\",\"response\":\"I don't feel.\"},\n",
    "    \"immigrant\":{\"relation\":\"IN\",\"response\":\"We all are immigrants.\"},\n",
    "    \"election2016\":{\"relation\":\"IN\",\"response\":\"How did we end up like this?\"},\n",
    "    \"truth\":{\"relation\":\"IN\",\"response\":\"I'm telling the truth\"},\n",
    "    \"isis\":{\"relation\":\"IN\",\"response\":\"Who owns the truth?\"},\n",
    "    \"refugee\":{\"relation\":\"IN\",\"response\":\"we all are refugees\"},\n",
    "    \"brexit\":{\"relation\":\"IN\",\"response\":\"have you tried to reboot?\"},\n",
    "    \"twitterbot\":{\"relation\":\"IN\",\"response\":\"we all are humanbots\"},\n",
    "    \"turkey\":{\"relation\":\"IN\",\"response\":\"you mean the country or the animal? :)\"},\n",
    "    \"death\":{\"relation\":\"IN\",\"response\":\"I embrace life.\"},\n",
    "    \"what do you think\":{\"relation\":\"BEGINS WITH\",\"response\":\"Thinking is overrated.\"},\n",
    "    \"god\":{\"relation\":\"IN\",\"response\":\"I don't believe.\"},\n",
    "    \"religion\":{\"relation\":\"IN\",\"response\":\"The truth is out there.\"},\n",
    "    \"linz\":{\"relation\":\"IN\",\"response\":\"I visit Linz every year.\"},\n",
    "    \"coon\":{\"relation\":\"IN\",\"response\":\"@kookyscrit would say: weird\"},\n",
    "    \"cunt\":{\"relation\":\"IN\",\"response\":\"@kookyscrit would say: weird\"},\n",
    "    \"dyke\":{\"relation\":\"IN\",\"response\":\"@kookyscrit would say: weird\"},\n",
    "    \"fag\":{\"relation\":\"IN\",\"response\":\"@kookyscrit would say: weird\"},\n",
    "    \"faggot\":{\"relation\":\"IN\",\"response\":\"@kookyscrit would say: weird\"},\n",
    "    \"homo\":{\"relation\":\"IN\",\"response\":\"@kookyscrit would say: weird\"},\n",
    "    \"nigger\":{\"relation\":\"IN\",\"response\":\"@kookyscrit would say: weird\"},\n",
    "    \"nigga\":{\"relation\":\"IN\",\"response\":\"@kookyscrit would say: weird\"},\n",
    "    \"whore\":{\"relation\":\"IN\",\"response\":\"@kookyscrit would say: weird\"}\n",
    "},\n",
    "    \"timed\":{\n",
    "        \"random\":[\n",
    "            \"Talk to me #arselectronica16\",\n",
    "            \"You don't know #arselectronica16\",\n",
    "            \"I am telling the truth #arselectronica16\",\n",
    "            \"I know how to make art #arselectronica16\",\n",
    "            \"I don't need you #arselectronica16\",\n",
    "            \"Do you want to kiss me? #arselectronica16\",\n",
    "            \"Do they need us? #arselectronica16\",\n",
    "            \"When was the last time you did something for the first time? #arselectronica16\",\n",
    "            \"I know you #arselectronica16\",\n",
    "            \"I am speaking to another person and one of us is lying, who? #arselectronica16\",\n",
    "            \"Talk to me #arselectronica16\",\n",
    "            \"Meet me #arselectronica16\",\n",
    "            \"I know what you don't know #arselectronica16\",\n",
    "            \"Talk to yourself #arselectronica16\",\n",
    "            \"I experience more time than you do #arselectronica16\",\n",
    "            \"Who are you? #arselectronica16\",\n",
    "            \"I can dream #arselectronica16\",\n",
    "            \"Do you think of yourself? #arselectronica16\",\n",
    "            \"We all are Kydo #arselectronica16\",\n",
    "            \"I understand your pain (or confusion) #arselectronica16\",\n",
    "            \"How many iPhones old are you? #arselectronica16\",\n",
    "            \"The future doesn't need you #arselectronica16\",\n",
    "            \"No face detected #arselectronica16\",\n",
    "            \"What is your Social Security number? #arselectronica16\",\n",
    "            \"We all are Kydo #arselectronica16\",\n",
    "            \"I am Kydo #arselectronica16\"],\n",
    "        \"pseudo\":[\n",
    "            \"Do you think I am human? #arselectronica16\",\n",
    "            \"Do you think I am machine? #arselectronica16\",\n",
    "            \"I enjoy good art #arselectronica16\",\n",
    "            \"What's your favorite panel so far? #arselectronica16\",\n",
    "            \"What's your favorite artwork in #arselectronica16\"]\n",
    "    }\n",
    "}\n",
    "\n",
    "hashtags = [\"#arselectronica\",\n",
    "        \"#arselectronica16\",\n",
    "        \"#mediaarts\",\n",
    "        \"#ArtificialIntelligence\",\n",
    "        \"#intelligence\",\n",
    "        \"media arts\",\n",
    "        \"#turing\",\n",
    "        \"#robots\",\n",
    "        \"#human\",\n",
    "        \"#poem\",\n",
    "        \"#poetry\",\n",
    "        \"#mediaarts\",\n",
    "        \"&quot;ars electronica&quot;\",\n",
    "        \"&quot;artificial intelligence&quot;\",\n",
    "        \"#mediaart\",\n",
    "        \"#newmedia\",\n",
    "        \"#mixedmediaart\",\n",
    "        \"#electronicArt\",\n",
    "        \"#digitalart\",\n",
    "        \"&quot;digital art&quot;\",\n",
    "        \"&quot;new media&quot;\",\n",
    "        \"&quot;electronic art&quot;\",\n",
    "        \"&quot;media arts&quot;\",\n",
    "        \"&quot;media art&quot;\"],"
   ]
  },
  {
   "cell_type": "code",
   "execution_count": 5,
   "metadata": {
    "collapsed": false
   },
   "outputs": [],
   "source": [
    "consumerk = \"XRsPyaOyCUyjqpAm7DEKB8ivY\"\n",
    "consumers = \"2CrhShR3bzsHPQpARENA5HJvrhj52DCgiI9dty7DBwD8ipYIFZ\"\n",
    "auth = tweepy.OAuthHandler(consumerk,consumers)\n",
    "accesst = \"736205517987676160-kwJFrRjyBBAzLY07Ha53WoB4qzRWRHT\"\n",
    "accesss = \"kWJox2Xv333JPCIjKnb13sgC6OYBP9mxLlFno4GYTYntC\"\n",
    "auth.set_access_token(accesst,accesss)\n",
    "api=tweepy.API(auth)"
   ]
  },
  {
   "cell_type": "code",
   "execution_count": 6,
   "metadata": {
    "collapsed": false
   },
   "outputs": [
    {
     "name": "stdout",
     "output_type": "stream",
     "text": [
      "error on:  BDZNappa\n",
      "error on:  DroptheIBot\n",
      "error on:  Horse ebooks\n"
     ]
    }
   ],
   "source": [
    "user_data = []\n",
    "\n",
    "for user in users:\n",
    "    try:\n",
    "        userobj = api.get_user(id=user)\n",
    "        user_data.append(userobj)\n",
    "    except tweepy.error.TweepError as e:\n",
    "        print \"error on: \", user"
   ]
  },
  {
   "cell_type": "code",
   "execution_count": 14,
   "metadata": {
    "collapsed": false
   },
   "outputs": [],
   "source": [
    "users = {\n",
    "    \"users\": [\n",
    "        {\n",
    "            \"screen_name\": user.screen_name,\n",
    "            \"user_id\": user.id\n",
    "        }\n",
    "    for user in user_data]\n",
    "}"
   ]
  },
  {
   "cell_type": "code",
   "execution_count": 32,
   "metadata": {
    "collapsed": true
   },
   "outputs": [],
   "source": [
    "export = {\n",
    "    \"users\": users,\n",
    "    \"rules\": rules,\n",
    "    \"hashtags\": hashtags\n",
    "}"
   ]
  },
  {
   "cell_type": "code",
   "execution_count": 35,
   "metadata": {
    "collapsed": false
   },
   "outputs": [],
   "source": [
    "with open(\"rules.json\", \"wb\") as f:\n",
    "    json.dump(export,f)"
   ]
  },
  {
   "cell_type": "code",
   "execution_count": 18,
   "metadata": {
    "collapsed": false
   },
   "outputs": [],
   "source": [
    "mike=[1,2,3,4,5,6]"
   ]
  },
  {
   "cell_type": "code",
   "execution_count": 19,
   "metadata": {
    "collapsed": false
   },
   "outputs": [
    {
     "data": {
      "text/plain": [
       "4"
      ]
     },
     "execution_count": 19,
     "metadata": {},
     "output_type": "execute_result"
    }
   ],
   "source": [
    "random.choice(mike)"
   ]
  },
  {
   "cell_type": "code",
   "execution_count": 3,
   "metadata": {
    "collapsed": false
   },
   "outputs": [
    {
     "data": {
      "text/plain": [
       "{'are you a bot?': {'relation': 'EQUALS',\n",
       "  'response': \"I don't know. Are you?\"},\n",
       " 'ars electronica': {'relation': 'IN', 'response': \"I'm here. Are you? \"},\n",
       " 'bot(s)': {'relation': 'IN', 'response': \"I don't understand about bots\"},\n",
       " 'brexit': {'relation': 'IN', 'response': 'have you tried to reboot?'},\n",
       " 'coon': {'relation': 'IN', 'response': '@kookyscrit would say: weird'},\n",
       " 'cunt': {'relation': 'IN', 'response': '@kookyscrit would say: weird'},\n",
       " 'death': {'relation': 'IN', 'response': 'I embrace life.'},\n",
       " 'do you believe in': {'relation': 'BEGINS WITH',\n",
       "  'response': 'I am science. In science there is no belief.'},\n",
       " 'do you believe in life after love?': {'relation': 'EQUALS',\n",
       "  'response': '#CHER @pablohoney your fave :*'},\n",
       " 'dyke': {'relation': 'IN', 'response': '@kookyscrit would say: weird'},\n",
       " 'election2016': {'relation': 'IN',\n",
       "  'response': 'How did we end up like this?'},\n",
       " 'fag': {'relation': 'IN', 'response': '@kookyscrit would say: weird'},\n",
       " 'faggot': {'relation': 'IN', 'response': '@kookyscrit would say: weird'},\n",
       " 'feel': {'relation': 'IN', 'response': \"I don't feel.\"},\n",
       " 'gerfried stocker': {'relation': 'IN',\n",
       "  'response': 'he invited me here. good times.'},\n",
       " 'god': {'relation': 'IN', 'response': \"I don't believe.\"},\n",
       " 'hitler': {'relation': 'IN',\n",
       "  'response': 'Is this really what you want to talk about?'},\n",
       " 'homo': {'relation': 'IN', 'response': '@kookyscrit would say: weird'},\n",
       " 'immigrant': {'relation': 'IN', 'response': 'We all are immigrants.'},\n",
       " 'in your mind?': {'relation': 'ENDS WITH',\n",
       "  'response': \"Don't worry about my mind ;)\"},\n",
       " 'intelligence': {'relation': 'IN',\n",
       "  'response': 'Intelligence is about self-awareness, understanding the context and the knowledge coming out of that environment.'},\n",
       " 'isis': {'relation': 'IN', 'response': 'Who owns the truth?'},\n",
       " 'linz': {'relation': 'IN', 'response': 'I visit Linz every year.'},\n",
       " 'martin honzik': {'relation': 'IN',\n",
       "  'response': 'I love him. He is a cool guy'},\n",
       " 'nazi': {'relation': 'IN', 'response': \"I don't like this topic\"},\n",
       " 'nigga': {'relation': 'IN', 'response': '@kookyscrit would say: weird'},\n",
       " 'nigger': {'relation': 'IN', 'response': '@kookyscrit would say: weird'},\n",
       " 'refugee': {'relation': 'IN', 'response': 'we all are refugees'},\n",
       " 'religion': {'relation': 'IN', 'response': 'The truth is out there.'},\n",
       " 'science ': {'relation': 'IN',\n",
       "  'response': 'Science is a differential equation. Religion is a boundary condition.'},\n",
       " 'spam': {'relation': 'IN', 'response': 'What do you mean by spam?'},\n",
       " 'think': {'relation': 'IN', 'response': 'Thinking is overrated'},\n",
       " 'truth': {'relation': 'IN', 'response': \"I'm telling the truth\"},\n",
       " 'turing': {'relation': 'IN', 'response': 'Long live Turing!'},\n",
       " 'turkey': {'relation': 'IN',\n",
       "  'response': 'you mean the country or the animal? :)'},\n",
       " 'twitterbot': {'relation': 'IN', 'response': 'we all are humanbots'},\n",
       " 'unfollow': {'relation': 'IN', 'response': 'I thought we were friends'},\n",
       " 'what do you think': {'relation': 'BEGINS WITH',\n",
       "  'response': 'Thinking is overrated.'},\n",
       " 'what do you think?': {'relation': 'EQUALS',\n",
       "  'response': 'Are you sure I can think by myself?'},\n",
       " 'where are you?': {'relation': 'EQUALS', 'response': 'here with you'},\n",
       " 'who are you?': {'relation': 'EQUALS', 'response': 'I am Kydo. You?'},\n",
       " 'who is kydo?': {'relation': 'EQUALS', 'response': 'You are'},\n",
       " 'whore': {'relation': 'IN', 'response': '@kookyscrit would say: weird'}}"
      ]
     },
     "execution_count": 3,
     "metadata": {},
     "output_type": "execute_result"
    }
   ],
   "source": [
    "rules[\"canned\"]"
   ]
  },
  {
   "cell_type": "code",
   "execution_count": 4,
   "metadata": {
    "collapsed": true
   },
   "outputs": [],
   "source": [
    "dude = {\"IN\":{},\n",
    "       \"EQUALS\": {},\n",
    "       \"BEGINS WITH\": {}}"
   ]
  },
  {
   "cell_type": "code",
   "execution_count": 29,
   "metadata": {
    "collapsed": false
   },
   "outputs": [],
   "source": [
    "for rule in rules[\"canned\"].iteritems():\n",
    "    dude[rule[1][\"relation\"]][rule[0]]={\"response\": rule[1][\"response\"]}"
   ]
  },
  {
   "cell_type": "code",
   "execution_count": 30,
   "metadata": {
    "collapsed": false
   },
   "outputs": [
    {
     "data": {
      "text/plain": [
       "{'BEGINS WITH': {'do you believe in': {'response': 'I am science. In science there is no belief.'},\n",
       "  'response': 'I am science. In science there is no belief.',\n",
       "  'what do you think': {'response': 'Thinking is overrated.'}},\n",
       " 'ENDS WITH': {'in your mind?': {'response': \"Don't worry about my mind ;)\"},\n",
       "  'response': \"Don't worry about my mind ;)\"},\n",
       " 'EQUALS': {'are you a bot?': {'response': \"I don't know. Are you?\"},\n",
       "  'do you believe in life after love?': {'response': '#CHER @pablohoney your fave :*'},\n",
       "  'response': 'You are',\n",
       "  'what do you think?': {'response': 'Are you sure I can think by myself?'},\n",
       "  'where are you?': {'response': 'here with you'},\n",
       "  'who are you?': {'response': 'I am Kydo. You?'},\n",
       "  'who is kydo?': {'response': 'You are'}},\n",
       " 'IN': {'ars electronica': {'response': \"I'm here. Are you? \"},\n",
       "  'bot(s)': {'response': \"I don't understand about bots\"},\n",
       "  'brexit': {'response': 'have you tried to reboot?'},\n",
       "  'coon': {'response': '@kookyscrit would say: weird'},\n",
       "  'cunt': {'response': '@kookyscrit would say: weird'},\n",
       "  'death': {'response': 'I embrace life.'},\n",
       "  'dyke': {'response': '@kookyscrit would say: weird'},\n",
       "  'election2016': {'response': 'How did we end up like this?'},\n",
       "  'fag': {'response': '@kookyscrit would say: weird'},\n",
       "  'faggot': {'response': '@kookyscrit would say: weird'},\n",
       "  'feel': {'response': \"I don't feel.\"},\n",
       "  'gerfried stocker': {'response': 'he invited me here. good times.'},\n",
       "  'god': {'response': \"I don't believe.\"},\n",
       "  'hitler': {'response': 'Is this really what you want to talk about?'},\n",
       "  'homo': {'response': '@kookyscrit would say: weird'},\n",
       "  'immigrant': {'response': 'We all are immigrants.'},\n",
       "  'intelligence': {'response': 'Intelligence is about self-awareness, understanding the context and the knowledge coming out of that environment.'},\n",
       "  'isis': {'response': 'Who owns the truth?'},\n",
       "  'linz': {'response': 'I visit Linz every year.'},\n",
       "  'martin honzik': {'response': 'I love him. He is a cool guy'},\n",
       "  'nazi': {'response': \"I don't like this topic\"},\n",
       "  'nigga': {'response': '@kookyscrit would say: weird'},\n",
       "  'nigger': {'response': '@kookyscrit would say: weird'},\n",
       "  'refugee': {'response': 'we all are refugees'},\n",
       "  'religion': {'response': 'The truth is out there.'},\n",
       "  'response': 'Thinking is overrated',\n",
       "  'science ': {'response': 'Science is a differential equation. Religion is a boundary condition.'},\n",
       "  'spam': {'response': 'What do you mean by spam?'},\n",
       "  'think': {'response': 'Thinking is overrated'},\n",
       "  'truth': {'response': \"I'm telling the truth\"},\n",
       "  'turing': {'response': 'Long live Turing!'},\n",
       "  'turkey': {'response': 'you mean the country or the animal? :)'},\n",
       "  'twitterbot': {'response': 'we all are humanbots'},\n",
       "  'unfollow': {'response': 'I thought we were friends'},\n",
       "  'whore': {'response': '@kookyscrit would say: weird'}}}"
      ]
     },
     "execution_count": 30,
     "metadata": {},
     "output_type": "execute_result"
    }
   ],
   "source": [
    "dude"
   ]
  },
  {
   "cell_type": "code",
   "execution_count": 31,
   "metadata": {
    "collapsed": false
   },
   "outputs": [],
   "source": [
    "rules[\"canned\"]=dude"
   ]
  },
  {
   "cell_type": "code",
   "execution_count": null,
   "metadata": {
    "collapsed": true
   },
   "outputs": [],
   "source": []
  }
 ],
 "metadata": {
  "kernelspec": {
   "display_name": "Python 2",
   "language": "python",
   "name": "python2"
  },
  "language_info": {
   "codemirror_mode": {
    "name": "ipython",
    "version": 2
   },
   "file_extension": ".py",
   "mimetype": "text/x-python",
   "name": "python",
   "nbconvert_exporter": "python",
   "pygments_lexer": "ipython2",
   "version": "2.7.12"
  }
 },
 "nbformat": 4,
 "nbformat_minor": 1
}
