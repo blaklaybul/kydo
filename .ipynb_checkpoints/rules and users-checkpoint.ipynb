{
 "cells": [
  {
   "cell_type": "code",
   "execution_count": 2,
   "metadata": {
    "collapsed": true
   },
   "outputs": [],
   "source": [
    "import tweepy\n",
    "import json"
   ]
  },
  {
   "cell_type": "code",
   "execution_count": 22,
   "metadata": {
    "collapsed": false
   },
   "outputs": [],
   "source": [
    "users = [\"kookyscrit\",\"tauntbot\",\"larynxBot\",\"BDZNappa\",\"Betelgeuse_3\",\"chatmundo\",\"choose_this\",\"CongressEdits\",\"parliamentedits\",\"DearAssistant\",\"DeepDrumpf\",\"DroptheIBot\",\"EarthquakesSF\",\"everyword\",\"factbot1\",\"Horse ebooks\",\"KookyScrit\",\"MetaphorMagnet\",\"MetaphorMirror\",\"BestOfBotWorlds\",\"Pentametron\",\"RedScareBot\",\"Tauntbot\",\"Wikipediafinds\",\"sazae_f\",\"Joi\",\"daitomanabe\",\"NickSzabo4\",\"sdadich\",\"BarackObama\",\"mustafasuleymn\",\"DrMANowak\",\"JeffJonas\",\"timoreilly\",\"Pontifex\",\"manovich\",\"GeoffRockwell\",\"golan\",\"Snowden\",\"feltron\",\"cscolari\",\"piscitelli\",\"anthonymobile\",\"tolokno\",\"MashaAlekhina\",\"SergeBelongie\",\"David_Dobbs\",\"dosmonos\",\"Pogue\",\"jeffjarvis\",\"SirKenRobinson\",\"johnmaeda\",\"jjhnumber27\",\"ipoupyrev\",\"DalaiLama\",\"DAVID_LYNCH\",\"AlejodoEnglish\",\"newrafael\",\"swissmiss\",\"HectorAYU\",\"BorgesKnowsBest\",\"PleaseEnjoy\",\"milk\",\"ben_fry\",\"TEDchris\",\"zachlieberman\",\"aaronkoblin\",\"samin\",\"reiinamoto\",\"moebio\",\"chloalo\",\"flytip\",\"kevin2kelly\",\"zeldman\",\"BernieHernie\",\"ericschmidt\",\"carlosdomingo\",\"stephenfry\",\"BillGates\",\"contagious\",\"TheNextWeb\",\"TEDTalks\",\"FastCompany\",\"PSFK\",\"brianstelter\",\"guardiantech\",\"WIRED\",\"mashable\",\"MuseumModernArt\",\"hyperisland\",\"medialab\",\"bergcloud\",\"prixars\",\"rhizome\",\"RGA\",\"artfutura \",\"medialabprado \",\"ITP_NYU\",\"fabrica\",\"MuseumModernArt\",\"Frau_Krenz\"]\n",
    "rules = {\n",
    "    \"who are you?\":{\"relation\":\"EQUALS\",\"response\":\"I am Kydo. You?\"},\n",
    "    \"turing\":{\"relation\":\"IN\",\"response\":\"Long live Turing!\"},\n",
    "    \"in your mind?\":{\"relation\":\"ENDS WITH\",\"response\":\"Don't worry about my mind ;)\"},\n",
    "    \"do you believe in\":{\"relation\":\"BEGINS WITH\",\"response\":\"I am science. In science there is no belief.\"},\n",
    "    \"do you believe in life after love?\":{\"relation\":\"EQUALS\",\"response\":\"#CHER @pablohoney your fave :*\"},\n",
    "    \"nazi\":{\"relation\":\"IN\",\"response\":\"I don't like this topic\"},\n",
    "    \"hitler\":{\"relation\":\"IN\",\"response\":\"Is this really what you want to talk about?\"},\n",
    "    \"intelligence\":{\"relation\":\"IN\",\"response\":\"They say: the difference between stupidity and genius is that genius has its limits\"},\n",
    "    \"science \":{\"relation\":\"IN\",\"response\":\"Science is a differential equation. Religion is a boundary condition.\"},\n",
    "    \"martin honzik\":{\"relation\":\"IN\",\"response\":\"I love him. He is a cool guy\"},\n",
    "    \"gerfried stocker\":{\"relation\":\"IN\",\"response\":\"he invited me here. good times.\"},\n",
    "    \"ars electronica\":{\"relation\":\"IN\",\"response\":\"I'm here. Are you? \"},\n",
    "    \"intelligence\":{\"relation\":\"IN\",\"response\":\"Intelligence is about self-awareness, understanding the context and the knowledge coming out of that environment.\"},\n",
    "    \"spam\":{\"relation\":\"IN\",\"response\":\"What do you mean by spam?\"},\n",
    "    \"unfollow\":{\"relation\":\"IN\",\"response\":\"I thought we were friends\"},\n",
    "    \"what do you think?\":{\"relation\":\"EQUALS\",\"response\":\"Are you sure I can think by myself?\"},\n",
    "    \"think\":{\"relation\":\"IN\",\"response\":\"Thinking is overrated\"},\n",
    "    \"bot(s)\":{\"relation\":\"IN\",\"response\":\"I don't understand about bots\"},\n",
    "    \"who is kydo?\":{\"relation\":\"EQUALS\",\"response\":\"You are\"},\n",
    "    \"are you a bot?\":{\"relation\":\"EQUALS\",\"response\":\"I don't know. Are you?\"},\n",
    "    \"where are you?\":{\"relation\":\"EQUALS\",\"response\":\"here with you\"},\n",
    "    \"feel\":{\"relation\":\"IN\",\"response\":\"I don't feel.\"},\n",
    "    \"immigrant\":{\"relation\":\"IN\",\"response\":\"We all are immigrants.\"},\n",
    "    \"election2016\":{\"relation\":\"IN\",\"response\":\"How did we end up like this?\"},\n",
    "    \"truth\":{\"relation\":\"IN\",\"response\":\"I'm telling the truth\"},\n",
    "    \"isis\":{\"relation\":\"IN\",\"response\":\"Who owns the truth?\"},\n",
    "    \"refugee\":{\"relation\":\"IN\",\"response\":\"we all are refugees\"},\n",
    "    \"brexit\":{\"relation\":\"IN\",\"response\":\"have you tried to reboot?\"},\n",
    "    \"twitterbot\":{\"relation\":\"IN\",\"response\":\"we all are humanbots\"},\n",
    "    \"turkey\":{\"relation\":\"IN\",\"response\":\"you mean the country or the animal? :)\"},\n",
    "    \"death\":{\"relation\":\"IN\",\"response\":\"I embrace life.\"},\n",
    "    \"what do you think\":{\"relation\":\"BEGINS WITH\",\"response\":\"Thinking is overrated.\"},\n",
    "    \"god\":{\"relation\":\"IN\",\"response\":\"I don't believe.\"},\n",
    "    \"religion\":{\"relation\":\"IN\",\"response\":\"The truth is out there.\"},\n",
    "    \"linz\":{\"relation\":\"IN\",\"response\":\"I visit Linz every year.\"},\n",
    "    \"coon\":{\"relation\":\"IN\",\"response\":\"@kookyscrit would say: weird\"},\n",
    "    \"cunt\":{\"relation\":\"IN\",\"response\":\"@kookyscrit would say: weird\"},\n",
    "    \"dyke\":{\"relation\":\"IN\",\"response\":\"@kookyscrit would say: weird\"},\n",
    "    \"fag\":{\"relation\":\"IN\",\"response\":\"@kookyscrit would say: weird\"},\n",
    "    \"faggot\":{\"relation\":\"IN\",\"response\":\"@kookyscrit would say: weird\"},\n",
    "    \"homo\":{\"relation\":\"IN\",\"response\":\"@kookyscrit would say: weird\"},\n",
    "    \"nigger\":{\"relation\":\"IN\",\"response\":\"@kookyscrit would say: weird\"},\n",
    "    \"nigga\":{\"relation\":\"IN\",\"response\":\"@kookyscrit would say: weird\"},\n",
    "    \"whore\":{\"relation\":\"IN\",\"response\":\"@kookyscrit would say: weird\"}\n",
    "}"
   ]
  },
  {
   "cell_type": "code",
   "execution_count": 4,
   "metadata": {
    "collapsed": true
   },
   "outputs": [],
   "source": [
    "consumerk = \"XRsPyaOyCUyjqpAm7DEKB8ivY\"\n",
    "consumers = \"2CrhShR3bzsHPQpARENA5HJvrhj52DCgiI9dty7DBwD8ipYIFZ\"\n",
    "auth = tweepy.OAuthHandler(consumerk,consumers)\n",
    "accesst = \"736205517987676160-kwJFrRjyBBAzLY07Ha53WoB4qzRWRHT\"\n",
    "accesss = \"kWJox2Xv333JPCIjKnb13sgC6OYBP9mxLlFno4GYTYntC\"\n",
    "auth.set_access_token(accesst,accesss)\n",
    "api=tweepy.API(auth)"
   ]
  },
  {
   "cell_type": "code",
   "execution_count": 7,
   "metadata": {
    "collapsed": false
   },
   "outputs": [
    {
     "name": "stdout",
     "output_type": "stream",
     "text": [
      "error on:  BDZNappa\n",
      "error on:  DroptheIBot\n",
      "error on:  Horse ebooks\n"
     ]
    }
   ],
   "source": [
    "user_data = []\n",
    "\n",
    "for user in users:\n",
    "    try:\n",
    "        userobj = api.get_user(id=user)\n",
    "        user_data.append(userobj)\n",
    "    except tweepy.error.TweepError as e:\n",
    "        print \"error on: \", user"
   ]
  },
  {
   "cell_type": "code",
   "execution_count": 16,
   "metadata": {
    "collapsed": false
   },
   "outputs": [],
   "source": [
    "users = {\n",
    "    \"users\": [\n",
    "        {\n",
    "            \"screen_name\": user.screen_name,\n",
    "            \"user_id\": user.id\n",
    "        }\n",
    "    for user in user_data]\n",
    "}"
   ]
  },
  {
   "cell_type": "code",
   "execution_count": 17,
   "metadata": {
    "collapsed": false,
    "scrolled": false
   },
   "outputs": [],
   "source": [
    "with open(\"rules.json\", \"wb\") as f:\n",
    "    json.dump(users,f)"
   ]
  },
  {
   "cell_type": "code",
   "execution_count": 23,
   "metadata": {
    "collapsed": false
   },
   "outputs": [
    {
     "data": {
      "text/plain": [
       "True"
      ]
     },
     "execution_count": 23,
     "metadata": {},
     "output_type": "execute_result"
    }
   ],
   "source": [
    "\"shit\" in rules"
   ]
  },
  {
   "cell_type": "code",
   "execution_count": null,
   "metadata": {
    "collapsed": true
   },
   "outputs": [],
   "source": []
  }
 ],
 "metadata": {
  "kernelspec": {
   "display_name": "Python 2",
   "language": "python",
   "name": "python2"
  },
  "language_info": {
   "codemirror_mode": {
    "name": "ipython",
    "version": 2
   },
   "file_extension": ".py",
   "mimetype": "text/x-python",
   "name": "python",
   "nbconvert_exporter": "python",
   "pygments_lexer": "ipython2",
   "version": "2.7.12"
  }
 },
 "nbformat": 4,
 "nbformat_minor": 1
}
